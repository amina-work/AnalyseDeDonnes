{
 "cells": [
  {
   "cell_type": "code",
   "execution_count": 3,
   "id": "da939a1f",
   "metadata": {},
   "outputs": [
    {
     "name": "stdout",
     "output_type": "stream",
     "text": [
      "(7, 2)\n",
      "[['oui' 'oui']\n",
      " ['oui' 'non']\n",
      " ['non' 'oui']\n",
      " ['non' 'non']\n",
      " ['oui' 'oui']\n",
      " ['oui' 'non']\n",
      " ['oui' 'oui']]\n"
     ]
    }
   ],
   "source": [
    "import numpy as np\n",
    "import pandas as pd\n",
    "\n",
    "a = np.array([[\"oui\", 'oui'], \n",
    "              [\"oui\", 'non'], \n",
    "              [\"non\", 'oui'], \n",
    "              [\"non\", 'non'],\n",
    "              [\"oui\", 'oui'], \n",
    "              [\"oui\", 'non'], \n",
    "              [\"oui\", 'oui']\n",
    "              ])\n",
    "print(np.shape(a))\n",
    "print(a)"
   ]
  },
  {
   "cell_type": "code",
   "execution_count": null,
   "id": "09bba72d",
   "metadata": {},
   "outputs": [],
   "source": [
    "\n",
    "df = pd.DataFrame(data=a)\n",
    "df = df.rename(columns={0: \"q1\", 1:\"q2\"})\n",
    "print(df)"
   ]
  },
  {
   "cell_type": "code",
   "execution_count": null,
   "id": "24bbdcc9",
   "metadata": {},
   "outputs": [],
   "source": [
    "un = df[\"q1\"].unique()\n",
    "code = np.eye(np.size(un))\n",
    "\n",
    "print(code)\n",
    "print(type(code[0]))\n",
    "for i in range(len(un)):\n",
    "    print(un[i])\n",
    "    print(code[i])\n",
    "    df = df.replace(un[i], str(code[i]))\n",
    "print(df)"
   ]
  },
  {
   "cell_type": "code",
   "execution_count": null,
   "id": "31ca7e22",
   "metadata": {},
   "outputs": [],
   "source": [
    "print(df[\"q1\"])"
   ]
  }
 ],
 "metadata": {
  "kernelspec": {
   "display_name": "Python 3 (ipykernel)",
   "language": "python",
   "name": "python3"
  },
  "language_info": {
   "codemirror_mode": {
    "name": "ipython",
    "version": 3
   },
   "file_extension": ".py",
   "mimetype": "text/x-python",
   "name": "python",
   "nbconvert_exporter": "python",
   "pygments_lexer": "ipython3",
   "version": "3.10.6"
  }
 },
 "nbformat": 4,
 "nbformat_minor": 5
}
