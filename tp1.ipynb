{
 "cells": [
  {
   "cell_type": "code",
   "execution_count": 121,
   "id": "6e8045ac",
   "metadata": {},
   "outputs": [],
   "source": [
    "#Tp N°1 en AND"
   ]
  },
  {
   "cell_type": "code",
   "execution_count": 122,
   "id": "da939a1f",
   "metadata": {},
   "outputs": [
    {
     "name": "stdout",
     "output_type": "stream",
     "text": [
      "     0    1\n",
      "0  oui  oui\n",
      "1  oui  non\n",
      "2  non  oui\n",
      "3  non  non\n",
      "4  oui  oui\n",
      "5  oui  non\n",
      "6  non  oui\n"
     ]
    }
   ],
   "source": [
    "#exo1\n",
    "#Q1: Déterminer le tableau de codage disjonctif complet\n",
    "import numpy as np\n",
    "import pandas as pd\n",
    "\n",
    "a = np.array([[\"oui\", 'oui'], \n",
    "              [\"oui\", 'non'], \n",
    "              [\"non\", 'oui'], \n",
    "              [\"non\", 'non'],\n",
    "              [\"oui\", 'oui'], \n",
    "              [\"oui\", 'non'], \n",
    "              [\"non\", 'oui']\n",
    "              ])\n",
    "#print(np.shape(a))\n",
    "df = pd.DataFrame(data=a)\n",
    "#df = df.rename(columns={0: \"q1\", 1:\"q2\"})\n",
    "print(df)"
   ]
  },
  {
   "cell_type": "code",
   "execution_count": 124,
   "id": "24bbdcc9",
   "metadata": {},
   "outputs": [
    {
     "ename": "TypeError",
     "evalue": "Invalid \"to_replace\" type: 'str'",
     "output_type": "error",
     "traceback": [
      "\u001b[0;31m---------------------------------------------------------------------------\u001b[0m",
      "\u001b[0;31mTypeError\u001b[0m                                 Traceback (most recent call last)",
      "Cell \u001b[0;32mIn[124], line 5\u001b[0m\n\u001b[1;32m      2\u001b[0m code \u001b[39m=\u001b[39m np\u001b[39m.\u001b[39meye(np\u001b[39m.\u001b[39msize(un)) \u001b[39m#based on the number of unique values, this will create the N->{0, 1}ĸ\u001b[39;00m\n\u001b[1;32m      4\u001b[0m \u001b[39mfor\u001b[39;00m i \u001b[39min\u001b[39;00m \u001b[39mrange\u001b[39m(\u001b[39mlen\u001b[39m(un)):\n\u001b[0;32m----> 5\u001b[0m     df[\u001b[39m0\u001b[39m] \u001b[39m=\u001b[39m df[\u001b[39m0\u001b[39;49m]\u001b[39m.\u001b[39;49mreplace(un[i], code[i])\n\u001b[1;32m      6\u001b[0m \u001b[39mprint\u001b[39m(df)\n",
      "File \u001b[0;32m~/.local/lib/python3.10/site-packages/pandas/util/_decorators.py:331\u001b[0m, in \u001b[0;36mdeprecate_nonkeyword_arguments.<locals>.decorate.<locals>.wrapper\u001b[0;34m(*args, **kwargs)\u001b[0m\n\u001b[1;32m    325\u001b[0m \u001b[39mif\u001b[39;00m \u001b[39mlen\u001b[39m(args) \u001b[39m>\u001b[39m num_allow_args:\n\u001b[1;32m    326\u001b[0m     warnings\u001b[39m.\u001b[39mwarn(\n\u001b[1;32m    327\u001b[0m         msg\u001b[39m.\u001b[39mformat(arguments\u001b[39m=\u001b[39m_format_argument_list(allow_args)),\n\u001b[1;32m    328\u001b[0m         \u001b[39mFutureWarning\u001b[39;00m,\n\u001b[1;32m    329\u001b[0m         stacklevel\u001b[39m=\u001b[39mfind_stack_level(),\n\u001b[1;32m    330\u001b[0m     )\n\u001b[0;32m--> 331\u001b[0m \u001b[39mreturn\u001b[39;00m func(\u001b[39m*\u001b[39;49margs, \u001b[39m*\u001b[39;49m\u001b[39m*\u001b[39;49mkwargs)\n",
      "File \u001b[0;32m~/.local/lib/python3.10/site-packages/pandas/core/series.py:5380\u001b[0m, in \u001b[0;36mSeries.replace\u001b[0;34m(self, to_replace, value, inplace, limit, regex, method)\u001b[0m\n\u001b[1;32m   5362\u001b[0m \u001b[39m@deprecate_nonkeyword_arguments\u001b[39m(\n\u001b[1;32m   5363\u001b[0m     version\u001b[39m=\u001b[39m\u001b[39mNone\u001b[39;00m, allowed_args\u001b[39m=\u001b[39m[\u001b[39m\"\u001b[39m\u001b[39mself\u001b[39m\u001b[39m\"\u001b[39m, \u001b[39m\"\u001b[39m\u001b[39mto_replace\u001b[39m\u001b[39m\"\u001b[39m, \u001b[39m\"\u001b[39m\u001b[39mvalue\u001b[39m\u001b[39m\"\u001b[39m]\n\u001b[1;32m   5364\u001b[0m )\n\u001b[0;32m   (...)\u001b[0m\n\u001b[1;32m   5378\u001b[0m     method: Literal[\u001b[39m\"\u001b[39m\u001b[39mpad\u001b[39m\u001b[39m\"\u001b[39m, \u001b[39m\"\u001b[39m\u001b[39mffill\u001b[39m\u001b[39m\"\u001b[39m, \u001b[39m\"\u001b[39m\u001b[39mbfill\u001b[39m\u001b[39m\"\u001b[39m] \u001b[39m|\u001b[39m lib\u001b[39m.\u001b[39mNoDefault \u001b[39m=\u001b[39m lib\u001b[39m.\u001b[39mno_default,\n\u001b[1;32m   5379\u001b[0m ) \u001b[39m-\u001b[39m\u001b[39m>\u001b[39m Series \u001b[39m|\u001b[39m \u001b[39mNone\u001b[39;00m:\n\u001b[0;32m-> 5380\u001b[0m     \u001b[39mreturn\u001b[39;00m \u001b[39msuper\u001b[39;49m()\u001b[39m.\u001b[39;49mreplace(\n\u001b[1;32m   5381\u001b[0m         to_replace\u001b[39m=\u001b[39;49mto_replace,\n\u001b[1;32m   5382\u001b[0m         value\u001b[39m=\u001b[39;49mvalue,\n\u001b[1;32m   5383\u001b[0m         inplace\u001b[39m=\u001b[39;49minplace,\n\u001b[1;32m   5384\u001b[0m         limit\u001b[39m=\u001b[39;49mlimit,\n\u001b[1;32m   5385\u001b[0m         regex\u001b[39m=\u001b[39;49mregex,\n\u001b[1;32m   5386\u001b[0m         method\u001b[39m=\u001b[39;49mmethod,\n\u001b[1;32m   5387\u001b[0m     )\n",
      "File \u001b[0;32m~/.local/lib/python3.10/site-packages/pandas/util/_decorators.py:331\u001b[0m, in \u001b[0;36mdeprecate_nonkeyword_arguments.<locals>.decorate.<locals>.wrapper\u001b[0;34m(*args, **kwargs)\u001b[0m\n\u001b[1;32m    325\u001b[0m \u001b[39mif\u001b[39;00m \u001b[39mlen\u001b[39m(args) \u001b[39m>\u001b[39m num_allow_args:\n\u001b[1;32m    326\u001b[0m     warnings\u001b[39m.\u001b[39mwarn(\n\u001b[1;32m    327\u001b[0m         msg\u001b[39m.\u001b[39mformat(arguments\u001b[39m=\u001b[39m_format_argument_list(allow_args)),\n\u001b[1;32m    328\u001b[0m         \u001b[39mFutureWarning\u001b[39;00m,\n\u001b[1;32m    329\u001b[0m         stacklevel\u001b[39m=\u001b[39mfind_stack_level(),\n\u001b[1;32m    330\u001b[0m     )\n\u001b[0;32m--> 331\u001b[0m \u001b[39mreturn\u001b[39;00m func(\u001b[39m*\u001b[39;49margs, \u001b[39m*\u001b[39;49m\u001b[39m*\u001b[39;49mkwargs)\n",
      "File \u001b[0;32m~/.local/lib/python3.10/site-packages/pandas/core/generic.py:7284\u001b[0m, in \u001b[0;36mNDFrame.replace\u001b[0;34m(self, to_replace, value, inplace, limit, regex, method)\u001b[0m\n\u001b[1;32m   7280\u001b[0m                 new_data \u001b[39m=\u001b[39m \u001b[39mself\u001b[39m\u001b[39m.\u001b[39m_mgr\u001b[39m.\u001b[39mreplace(\n\u001b[1;32m   7281\u001b[0m                     to_replace\u001b[39m=\u001b[39mto_replace, value\u001b[39m=\u001b[39mvalue, inplace\u001b[39m=\u001b[39minplace\n\u001b[1;32m   7282\u001b[0m                 )\n\u001b[1;32m   7283\u001b[0m         \u001b[39melse\u001b[39;00m:\n\u001b[0;32m-> 7284\u001b[0m             \u001b[39mraise\u001b[39;00m \u001b[39mTypeError\u001b[39;00m(\n\u001b[1;32m   7285\u001b[0m                 \u001b[39mf\u001b[39m\u001b[39m'\u001b[39m\u001b[39mInvalid \u001b[39m\u001b[39m\"\u001b[39m\u001b[39mto_replace\u001b[39m\u001b[39m\"\u001b[39m\u001b[39m type: \u001b[39m\u001b[39m{\u001b[39;00m\u001b[39mrepr\u001b[39m(\u001b[39mtype\u001b[39m(to_replace)\u001b[39m.\u001b[39m\u001b[39m__name__\u001b[39m)\u001b[39m}\u001b[39;00m\u001b[39m'\u001b[39m\n\u001b[1;32m   7286\u001b[0m             )\n\u001b[1;32m   7288\u001b[0m result \u001b[39m=\u001b[39m \u001b[39mself\u001b[39m\u001b[39m.\u001b[39m_constructor(new_data)\n\u001b[1;32m   7289\u001b[0m \u001b[39mif\u001b[39;00m inplace:\n",
      "\u001b[0;31mTypeError\u001b[0m: Invalid \"to_replace\" type: 'str'"
     ]
    }
   ],
   "source": [
    "un = df[0].unique() #returns the unique value of the first column (K)\n",
    "code = np.eye(np.size(un)) #based on the number of unique values, this will create the N->{0, 1}ĸ\n",
    "\n",
    "d = []\n",
    "for i in range(len(un)):\n",
    "    d.append([code[i]])"
   ]
  }
 ],
 "metadata": {
  "kernelspec": {
   "display_name": "Python 3 (ipykernel)",
   "language": "python",
   "name": "python3"
  },
  "language_info": {
   "codemirror_mode": {
    "name": "ipython",
    "version": 3
   },
   "file_extension": ".py",
   "mimetype": "text/x-python",
   "name": "python",
   "nbconvert_exporter": "python",
   "pygments_lexer": "ipython3",
   "version": "3.10.6"
  }
 },
 "nbformat": 4,
 "nbformat_minor": 5
}
