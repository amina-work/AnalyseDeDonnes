{
 "cells": [
  {
   "cell_type": "code",
   "execution_count": 2,
   "metadata": {},
   "outputs": [
    {
     "name": "stdout",
     "output_type": "stream",
     "text": [
      "[['oui' 'oui']\n",
      " ['oui' 'non']\n",
      " ['non' 'oui']\n",
      " ['non' 'non']\n",
      " ['oui' 'oui']\n",
      " ['oui' 'non']\n",
      " ['non' 'oui']]\n",
      "['oui' 'non' 'oui' 'non' 'oui' 'non' 'oui']\n"
     ]
    }
   ],
   "source": [
    "#Tp N°1\n",
    "#exo1\n",
    "\n",
    "import numpy as np\n",
    "import pandas as pd\n",
    "\n",
    "exp = np.array([[\"oui\", 'oui'], \n",
    "              [\"oui\", 'non'], \n",
    "              [\"non\", 'oui'], \n",
    "              [\"non\", 'non'],\n",
    "              [\"oui\", 'oui'], \n",
    "              [\"oui\", 'non'], \n",
    "              [\"non\", 'oui']\n",
    "              ])\n",
    "print(exp)\n",
    "print(exp[:,1])"
   ]
  },
  {
   "cell_type": "code",
   "execution_count": 3,
   "metadata": {},
   "outputs": [
    {
     "name": "stdout",
     "output_type": "stream",
     "text": [
      "[[0. 1.]\n",
      " [0. 1.]\n",
      " [1. 0.]\n",
      " [1. 0.]\n",
      " [0. 1.]\n",
      " [0. 1.]\n",
      " [1. 0.]\n",
      " [0. 1.]\n",
      " [1. 0.]\n",
      " [0. 1.]\n",
      " [1. 0.]\n",
      " [0. 1.]\n",
      " [1. 0.]\n",
      " [0. 1.]]\n"
     ]
    }
   ],
   "source": [
    "#Q1: Déterminer le tableau de codage disjoonctif complet\n",
    "#Déterminer le nombre de valeurs uniques dans chaque colonne\n",
    "#Et créer le montant approprié de {0,1}\n",
    "new = np.array([])\n",
    "for j in range(exp.shape[1]):  #iterer les columns\n",
    "    un = np.unique(exp[:,j])\n",
    "    code = np.eye(un.shape[0])\n",
    " \n",
    "    for i in range(exp[:,j].shape[0]):\n",
    "        #print(v[i])\n",
    "        r=code[exp[:,j][i]==un]\n",
    "        #print(r)\n",
    "        if len(new)==0:\n",
    "            new = r\n",
    "        else:\n",
    "            new = np.append(new,r,axis=0)\n",
    "print(new)"
   ]
  },
  {
   "cell_type": "code",
   "execution_count": 4,
   "metadata": {},
   "outputs": [
    {
     "name": "stdout",
     "output_type": "stream",
     "text": [
      "[[0. 1. 0. 1.]\n",
      " [0. 1. 1. 0.]\n",
      " [1. 0. 0. 1.]\n",
      " [1. 0. 1. 0.]\n",
      " [0. 1. 0. 1.]\n",
      " [0. 1. 1. 0.]\n",
      " [1. 0. 0. 1.]]\n"
     ]
    }
   ],
   "source": [
    "#splitting the array back to 2 columns\n",
    "a = new[:exp.shape[0]]\n",
    "b = new[exp.shape[0]:]\n",
    "\n",
    "#then joining them back together\n",
    "arr = np.concatenate((a, b), axis=1)\n",
    "print(arr)"
   ]
  },
  {
   "cell_type": "code",
   "execution_count": 5,
   "metadata": {},
   "outputs": [
    {
     "name": "stdout",
     "output_type": "stream",
     "text": [
      "     0    1    2    3\n",
      "0  0.0  1.0  0.0  1.0\n",
      "1  0.0  1.0  1.0  0.0\n",
      "2  1.0  0.0  0.0  1.0\n",
      "3  1.0  0.0  1.0  0.0\n",
      "4  0.0  1.0  0.0  1.0\n",
      "5  0.0  1.0  1.0  0.0\n",
      "6  1.0  0.0  0.0  1.0\n"
     ]
    }
   ],
   "source": [
    "df = pd.DataFrame({0: arr[:,0], 1: arr[:,1], 2: arr[:,2], 3: arr[:,3]})\n",
    "print(df)"
   ]
  },
  {
   "cell_type": "code",
   "execution_count": 30,
   "metadata": {},
   "outputs": [
    {
     "name": "stdout",
     "output_type": "stream",
     "text": [
      "[[0.         1.         0.57142857 0.42857143 0.         0.\n",
      "  0.        ]\n",
      " [1.         0.         0.42857143 0.57142857 0.         0.\n",
      "  0.        ]\n",
      " [0.57142857 0.42857143 0.         1.         0.         0.\n",
      "  0.        ]\n",
      " [0.42857143 0.57142857 1.         0.         0.         0.\n",
      "  0.        ]\n",
      " [0.         0.         0.         0.         0.         0.\n",
      "  0.        ]\n",
      " [0.         0.         0.         0.         0.         0.\n",
      "  0.        ]\n",
      " [0.         0.         0.         0.         0.         0.\n",
      "  0.        ]]\n"
     ]
    }
   ],
   "source": [
    "#Q2: disemilarity mesure\n",
    "dist = np.zeros((exp.shape[0],exp.shape[0]))\n",
    "\n",
    "for i in range(df.shape[1]):\n",
    "    for j in range(df.shape[1]):\n",
    "        a = sum(((df[i]==1)&(df[j]==1)))\n",
    "        b = sum(((df[i]==1)&(df[j]==0)))\n",
    "        c = sum(((df[i]==0)&(df[j]==1)))\n",
    "        d = sum(((df[i]==0)&(df[j]==0)))\n",
    "        mesure = (b+c)/(a+b+c+d)\n",
    "        dist[i,j] = mesure\n",
    "print(dist)"
   ]
  },
  {
   "cell_type": "code",
   "execution_count": 33,
   "metadata": {},
   "outputs": [
    {
     "name": "stdout",
     "output_type": "stream",
     "text": [
      "     0    1    2    3\n",
      "0  3.0  0.0  0.0  0.0\n",
      "1  0.0  4.0  0.0  0.0\n",
      "2  1.0  2.0  3.0  0.0\n",
      "3  2.0  2.0  0.0  4.0\n"
     ]
    }
   ],
   "source": [
    "#Q3: Reduire le tableau de codage\n",
    "burt = np.zeros((df.shape[1],df.shape[1]))\n",
    "reduire = pd.DataFrame(data=burt)\n",
    "for i in range(df.shape[1]):\n",
    "    reduire[i][i] = df.sum(axis=0)[i]\n",
    "\n",
    "\n",
    "reduire[0][1] = sum(df[0]*df[1])\n",
    "reduire[0][2] = sum(df[0]*df[2])\n",
    "reduire[0][3] = sum(df[0]*df[3])\n",
    "reduire[1][2] = sum(df[1]*df[2])\n",
    "reduire[1][3] = sum(df[1]*df[3])\n",
    "reduire[2][3] = sum(df[2]*df[3])\n",
    "print(reduire)"
   ]
  }
 ],
 "metadata": {
  "kernelspec": {
   "display_name": "Python 3 (ipykernel)",
   "language": "python",
   "name": "python3"
  },
  "language_info": {
   "codemirror_mode": {
    "name": "ipython",
    "version": 3
   },
   "file_extension": ".py",
   "mimetype": "text/x-python",
   "name": "python",
   "nbconvert_exporter": "python",
   "pygments_lexer": "ipython3",
   "version": "3.11.2"
  },
  "orig_nbformat": 4
 },
 "nbformat": 4,
 "nbformat_minor": 2
}
