{
 "cells": [
  {
   "cell_type": "code",
   "execution_count": 50,
   "metadata": {},
   "outputs": [
    {
     "name": "stdout",
     "output_type": "stream",
     "text": [
      "[['oui' 'oui']\n",
      " ['oui' 'non']\n",
      " ['non' 'oui']\n",
      " ['non' 'non']\n",
      " ['oui' 'oui']\n",
      " ['oui' 'non']\n",
      " ['non' 'oui']]\n",
      "['oui' 'non' 'oui' 'non' 'oui' 'non' 'oui']\n"
     ]
    }
   ],
   "source": [
    "#Tp N°1\n",
    "#exo1\n",
    "\n",
    "import numpy as np\n",
    "import pandas as pd\n",
    "\n",
    "exp = np.array([[\"oui\", 'oui'], \n",
    "              [\"oui\", 'non'], \n",
    "              [\"non\", 'oui'], \n",
    "              [\"non\", 'non'],\n",
    "              [\"oui\", 'oui'], \n",
    "              [\"oui\", 'non'], \n",
    "              [\"non\", 'oui']\n",
    "              ])\n",
    "print(exp)\n",
    "print(exp[:,1])"
   ]
  },
  {
   "cell_type": "code",
   "execution_count": 51,
   "metadata": {},
   "outputs": [
    {
     "name": "stdout",
     "output_type": "stream",
     "text": [
      "[[0. 1.]\n",
      " [1. 0.]\n",
      " [0. 1.]\n",
      " [1. 0.]\n",
      " [0. 1.]\n",
      " [1. 0.]\n",
      " [0. 1.]]\n",
      "[]\n",
      "7\n"
     ]
    },
    {
     "ename": "IndexError",
     "evalue": "index 9 is out of bounds for axis 0 with size 7",
     "output_type": "error",
     "traceback": [
      "\u001b[0;31m---------------------------------------------------------------------------\u001b[0m",
      "\u001b[0;31mIndexError\u001b[0m                                Traceback (most recent call last)",
      "Cell \u001b[0;32mIn[51], line 23\u001b[0m\n\u001b[1;32m     21\u001b[0m \u001b[39mprint\u001b[39m(np\u001b[39m.\u001b[39msize(exp,\u001b[39m0\u001b[39m))\n\u001b[1;32m     22\u001b[0m a \u001b[39m=\u001b[39m [new[i] \u001b[39mfor\u001b[39;00m i \u001b[39min\u001b[39;00m \u001b[39mrange\u001b[39m(np\u001b[39m.\u001b[39msize(exp,\u001b[39m0\u001b[39m))]\n\u001b[0;32m---> 23\u001b[0m b \u001b[39m=\u001b[39m [new[i\u001b[39m*\u001b[39m\u001b[39m*\u001b[39m\u001b[39m2\u001b[39m] \u001b[39mfor\u001b[39;00m i \u001b[39min\u001b[39;00m \u001b[39mrange\u001b[39m(np\u001b[39m.\u001b[39msize(exp,\u001b[39m0\u001b[39m))]\n\u001b[1;32m     24\u001b[0m \u001b[39mprint\u001b[39m(a)\n\u001b[1;32m     25\u001b[0m \u001b[39mprint\u001b[39m(b)\n",
      "Cell \u001b[0;32mIn[51], line 23\u001b[0m, in \u001b[0;36m<listcomp>\u001b[0;34m(.0)\u001b[0m\n\u001b[1;32m     21\u001b[0m \u001b[39mprint\u001b[39m(np\u001b[39m.\u001b[39msize(exp,\u001b[39m0\u001b[39m))\n\u001b[1;32m     22\u001b[0m a \u001b[39m=\u001b[39m [new[i] \u001b[39mfor\u001b[39;00m i \u001b[39min\u001b[39;00m \u001b[39mrange\u001b[39m(np\u001b[39m.\u001b[39msize(exp,\u001b[39m0\u001b[39m))]\n\u001b[0;32m---> 23\u001b[0m b \u001b[39m=\u001b[39m [new[i\u001b[39m*\u001b[39;49m\u001b[39m*\u001b[39;49m\u001b[39m2\u001b[39;49m] \u001b[39mfor\u001b[39;00m i \u001b[39min\u001b[39;00m \u001b[39mrange\u001b[39m(np\u001b[39m.\u001b[39msize(exp,\u001b[39m0\u001b[39m))]\n\u001b[1;32m     24\u001b[0m \u001b[39mprint\u001b[39m(a)\n\u001b[1;32m     25\u001b[0m \u001b[39mprint\u001b[39m(b)\n",
      "\u001b[0;31mIndexError\u001b[0m: index 9 is out of bounds for axis 0 with size 7"
     ]
    }
   ],
   "source": [
    "#Q1: Déterminer le tableau de codage disjoonctif complet\n",
    "#Déterminer le nombre de valeurs uniques dans chaque colonne\n",
    "#Et créer le montant approprié de {0,1}\n",
    "x = np.array([])\n",
    "for j in range(exp.shape[1]):  #iterer les columns\n",
    "    un = np.unique(exp[:,j])\n",
    "    code = np.eye(un.shape[0])\n",
    "\n",
    "    new = np.array([])\n",
    "    for i in range(exp[:,j].shape[0]):\n",
    "        #print(v[i])\n",
    "        r=code[exp[:,j][i]==un]\n",
    "        #print(r)\n",
    "        if len(new)==0:\n",
    "            new = r\n",
    "        else:\n",
    "            new = np.append(new,r,axis=0)\n",
    "    print(new)\n",
    "print(x)\n",
    "#Trouver la longueur d’une colonne\n",
    "print(np.size(exp,0))\n",
    "a = [new[i] for i in range(np.size(exp,0))]\n",
    "b = [new[i**2] for i in range(np.size(exp,0))]\n",
    "print(a)\n",
    "print(b)"
   ]
  }
 ],
 "metadata": {
  "kernelspec": {
   "display_name": "Python 3 (ipykernel)",
   "language": "python",
   "name": "python3"
  },
  "language_info": {
   "codemirror_mode": {
    "name": "ipython",
    "version": 3
   },
   "file_extension": ".py",
   "mimetype": "text/x-python",
   "name": "python",
   "nbconvert_exporter": "python",
   "pygments_lexer": "ipython3",
   "version": "3.10.6"
  },
  "orig_nbformat": 4
 },
 "nbformat": 4,
 "nbformat_minor": 2
}
