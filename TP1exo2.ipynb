{
 "cells": [
  {
   "cell_type": "code",
   "execution_count": 51,
   "metadata": {},
   "outputs": [
    {
     "name": "stdout",
     "output_type": "stream",
     "text": [
      "\n",
      "Notre tableau de données:\n",
      "\n",
      "   0  1  2\n",
      "0  f  m  a\n",
      "1  f  m  a\n",
      "2  f  e  b\n",
      "3  f  e  c\n",
      "4  f  e  c\n",
      "5  h  e  c\n",
      "6  h  e  b\n",
      "7  h  m  b\n",
      "8  h  m  b\n",
      "9  h  m  a\n"
     ]
    }
   ],
   "source": [
    "#Tp N°1\n",
    "#exo2\n",
    "\n",
    "import numpy as np\n",
    "import pandas as pd\n",
    "exp= np.array([[\"f\", 'm', \"a\"], \n",
    "              [\"f\", 'm',\"a\"], \n",
    "              [\"f\", 'e',\"b\"], \n",
    "              [\"f\", 'e',\"c\"],\n",
    "              [\"f\", 'e', \"c\"], \n",
    "              [\"h\", 'e',\"c\"], \n",
    "              [\"h\", 'e',\"b\"],\n",
    "              [\"h\", 'm',\"b\"],\n",
    "              [\"h\", 'm',\"b\"], \n",
    "              [\"h\", 'm',\"a\"]])\n",
    "\n",
    "df = pd.DataFrame(data=exp)\n",
    "print(\"\\nNotre tableau de données:\\n\")\n",
    "print(df)"
   ]
  },
  {
   "cell_type": "code",
   "execution_count": 52,
   "metadata": {},
   "outputs": [
    {
     "name": "stdout",
     "output_type": "stream",
     "text": [
      "\n",
      "Tableau de codage disjonctif:\n",
      "\n",
      "   0_f  0_h  2  3  4  5  6\n",
      "0    1    0  1  0  1  0  0\n",
      "1    1    0  1  0  1  0  0\n",
      "2    1    0  1  1  0  1  0\n",
      "3    1    0  1  1  0  0  1\n",
      "4    1    0  1  1  0  0  1\n",
      "5    0    1  1  1  0  0  1\n",
      "6    0    1  1  1  0  1  0\n",
      "7    0    1  1  0  0  1  0\n",
      "8    0    1  1  0  0  1  0\n",
      "9    0    1  1  0  1  0  0\n"
     ]
    }
   ],
   "source": [
    "#Q1: Déterminer le tableau de codage disjoonctif complet\n",
    "#Déterminer le nombre de valeurs uniques dans chaque colonne\n",
    "#Et créer le montant approprié de {0,1}\n",
    "tc = pd.get_dummies(df)\n",
    "tc.rename(columns = {'0_f' : '0', '0_h' : '1', \"1_e\":\"2\", '1_m':'3', \"2_a\":\"4\", \"2_b\":\"5\", \"2_c\":\"6\"}, inplace = True)\n",
    "\n",
    "new = pd.get_dummies(df)\n",
    "new.rename(columns = {'0_[0. 1.]' : '0', '0_[1. 0.]' : '1', \"1_e\":\"2\", '1_m':'3', \"2_a\":\"4\", \"2_b\":\"5\", \"2_c\":\"6\"}, inplace = True)\n",
    "for i in range(len(new[\"2\"])):\n",
    "        if new[\"2\"][i] == 0 and new[\"3\"][i] == 1:\n",
    "            new[\"2\"][i] = 1\n",
    "            new[\"3\"][i] = 0\n",
    "            #new[\"3\"] = new[\"3\"].replace(1, 0)\n",
    "        elif new[\"2\"][i] == 1 and new[\"3\"][i] == 0:\n",
    "            new[\"2\"][i] = 1\n",
    "            new[\"3\"][i] = 1\n",
    "print(\"\\nTableau de codage disjonctif:\\n\")\n",
    "print(new)"
   ]
  },
  {
   "cell_type": "code",
   "execution_count": 53,
   "metadata": {},
   "outputs": [
    {
     "name": "stdout",
     "output_type": "stream",
     "text": [
      "\n",
      "***** on considere la 2eme variable comme nominal pour reduire le tableau ****\n",
      "\n",
      "\n",
      "Tableau de codage disjonctif complet:\n",
      "\n",
      "   0  1  2  3  4  5  6\n",
      "0  1  0  0  1  1  0  0\n",
      "1  1  0  0  1  1  0  0\n",
      "2  1  0  1  0  0  1  0\n",
      "3  1  0  1  0  0  0  1\n",
      "4  1  0  1  0  0  0  1\n",
      "5  0  1  1  0  0  0  1\n",
      "6  0  1  1  0  0  1  0\n",
      "7  0  1  0  1  0  1  0\n",
      "8  0  1  0  1  0  1  0\n",
      "9  0  1  0  1  1  0  0\n"
     ]
    }
   ],
   "source": [
    "#on considere la 2eme variable comme nominal pour reduire le tableau\n",
    "print(\"\\n***** on considere la 2eme variable comme nominal pour reduire le tableau ****\")\n",
    "print(\"\\n\\nTableau de codage disjonctif complet:\\n\")\n",
    "print(tc)"
   ]
  },
  {
   "cell_type": "code",
   "execution_count": 54,
   "metadata": {},
   "outputs": [
    {
     "name": "stdout",
     "output_type": "stream",
     "text": [
      "\n",
      "\n",
      "Tableau de BURT:\n",
      "\n",
      "     0    1    2    3    4    5    6\n",
      "0  5.0  0.0  3.0  2.0  2.0  1.0  2.0\n",
      "1  0.0  5.0  2.0  3.0  1.0  3.0  1.0\n",
      "2  3.0  2.0  5.0  0.0  0.0  2.0  3.0\n",
      "3  2.0  3.0  0.0  5.0  3.0  2.0  0.0\n",
      "4  2.0  1.0  0.0  3.0  3.0  0.0  0.0\n",
      "5  1.0  3.0  2.0  2.0  0.0  4.0  0.0\n",
      "6  2.0  1.0  3.0  0.0  0.0  0.0  3.0\n"
     ]
    }
   ],
   "source": [
    "burt = np.zeros((tc.shape[1],tc.shape[1]))\n",
    "rd = pd.DataFrame(data=burt)\n",
    "for i in range(tc.shape[1]):\n",
    "    rd[i][i] = tc.sum(axis=0)[i]\n",
    "for i in range(tc.shape[1]):\n",
    "    for j in range(tc.shape[1]):\n",
    "        rd[i][j] = sum(tc[str(i)]*tc[str(j)])\n",
    "print(\"\\n\\nTableau de BURT:\\n\")\n",
    "print(rd) "
   ]
  },
  {
   "cell_type": "code",
   "execution_count": 55,
   "metadata": {},
   "outputs": [
    {
     "ename": "KeyError",
     "evalue": "'7'",
     "output_type": "error",
     "traceback": [
      "\u001b[0;31m---------------------------------------------------------------------------\u001b[0m",
      "\u001b[0;31mKeyError\u001b[0m                                  Traceback (most recent call last)",
      "File \u001b[0;32m~/.local/lib/python3.11/site-packages/pandas/core/indexes/base.py:3802\u001b[0m, in \u001b[0;36mIndex.get_loc\u001b[0;34m(self, key, method, tolerance)\u001b[0m\n\u001b[1;32m   3801\u001b[0m \u001b[39mtry\u001b[39;00m:\n\u001b[0;32m-> 3802\u001b[0m     \u001b[39mreturn\u001b[39;00m \u001b[39mself\u001b[39;49m\u001b[39m.\u001b[39;49m_engine\u001b[39m.\u001b[39;49mget_loc(casted_key)\n\u001b[1;32m   3803\u001b[0m \u001b[39mexcept\u001b[39;00m \u001b[39mKeyError\u001b[39;00m \u001b[39mas\u001b[39;00m err:\n",
      "File \u001b[0;32m~/.local/lib/python3.11/site-packages/pandas/_libs/index.pyx:138\u001b[0m, in \u001b[0;36mpandas._libs.index.IndexEngine.get_loc\u001b[0;34m()\u001b[0m\n",
      "File \u001b[0;32m~/.local/lib/python3.11/site-packages/pandas/_libs/index.pyx:165\u001b[0m, in \u001b[0;36mpandas._libs.index.IndexEngine.get_loc\u001b[0;34m()\u001b[0m\n",
      "File \u001b[0;32mpandas/_libs/hashtable_class_helper.pxi:5745\u001b[0m, in \u001b[0;36mpandas._libs.hashtable.PyObjectHashTable.get_item\u001b[0;34m()\u001b[0m\n",
      "File \u001b[0;32mpandas/_libs/hashtable_class_helper.pxi:5753\u001b[0m, in \u001b[0;36mpandas._libs.hashtable.PyObjectHashTable.get_item\u001b[0;34m()\u001b[0m\n",
      "\u001b[0;31mKeyError\u001b[0m: '7'",
      "\nThe above exception was the direct cause of the following exception:\n",
      "\u001b[0;31mKeyError\u001b[0m                                  Traceback (most recent call last)",
      "Cell \u001b[0;32mIn[55], line 5\u001b[0m\n\u001b[1;32m      3\u001b[0m \u001b[39mfor\u001b[39;00m i \u001b[39min\u001b[39;00m \u001b[39mrange\u001b[39m(tc\u001b[39m.\u001b[39mshape[\u001b[39m0\u001b[39m]):\n\u001b[1;32m      4\u001b[0m     \u001b[39mfor\u001b[39;00m j \u001b[39min\u001b[39;00m \u001b[39mrange\u001b[39m(tc\u001b[39m.\u001b[39mshape[\u001b[39m0\u001b[39m]):\n\u001b[0;32m----> 5\u001b[0m         a \u001b[39m=\u001b[39m \u001b[39msum\u001b[39m(((tc[\u001b[39mstr\u001b[39m(i)]\u001b[39m==\u001b[39m\u001b[39m1\u001b[39m)\u001b[39m&\u001b[39m(tc[\u001b[39mstr\u001b[39;49m(j)]\u001b[39m==\u001b[39m\u001b[39m1\u001b[39m)))\n\u001b[1;32m      6\u001b[0m         b \u001b[39m=\u001b[39m \u001b[39msum\u001b[39m(((tc[\u001b[39mstr\u001b[39m(i)]\u001b[39m==\u001b[39m\u001b[39m1\u001b[39m)\u001b[39m&\u001b[39m(tc[\u001b[39mstr\u001b[39m(j)]\u001b[39m==\u001b[39m\u001b[39m0\u001b[39m)))\n\u001b[1;32m      7\u001b[0m         c \u001b[39m=\u001b[39m \u001b[39msum\u001b[39m(((tc[\u001b[39mstr\u001b[39m(i)]\u001b[39m==\u001b[39m\u001b[39m0\u001b[39m)\u001b[39m&\u001b[39m(tc[\u001b[39mstr\u001b[39m(j)]\u001b[39m==\u001b[39m\u001b[39m1\u001b[39m)))\n",
      "File \u001b[0;32m~/.local/lib/python3.11/site-packages/pandas/core/frame.py:3807\u001b[0m, in \u001b[0;36mDataFrame.__getitem__\u001b[0;34m(self, key)\u001b[0m\n\u001b[1;32m   3805\u001b[0m \u001b[39mif\u001b[39;00m \u001b[39mself\u001b[39m\u001b[39m.\u001b[39mcolumns\u001b[39m.\u001b[39mnlevels \u001b[39m>\u001b[39m \u001b[39m1\u001b[39m:\n\u001b[1;32m   3806\u001b[0m     \u001b[39mreturn\u001b[39;00m \u001b[39mself\u001b[39m\u001b[39m.\u001b[39m_getitem_multilevel(key)\n\u001b[0;32m-> 3807\u001b[0m indexer \u001b[39m=\u001b[39m \u001b[39mself\u001b[39;49m\u001b[39m.\u001b[39;49mcolumns\u001b[39m.\u001b[39;49mget_loc(key)\n\u001b[1;32m   3808\u001b[0m \u001b[39mif\u001b[39;00m is_integer(indexer):\n\u001b[1;32m   3809\u001b[0m     indexer \u001b[39m=\u001b[39m [indexer]\n",
      "File \u001b[0;32m~/.local/lib/python3.11/site-packages/pandas/core/indexes/base.py:3804\u001b[0m, in \u001b[0;36mIndex.get_loc\u001b[0;34m(self, key, method, tolerance)\u001b[0m\n\u001b[1;32m   3802\u001b[0m     \u001b[39mreturn\u001b[39;00m \u001b[39mself\u001b[39m\u001b[39m.\u001b[39m_engine\u001b[39m.\u001b[39mget_loc(casted_key)\n\u001b[1;32m   3803\u001b[0m \u001b[39mexcept\u001b[39;00m \u001b[39mKeyError\u001b[39;00m \u001b[39mas\u001b[39;00m err:\n\u001b[0;32m-> 3804\u001b[0m     \u001b[39mraise\u001b[39;00m \u001b[39mKeyError\u001b[39;00m(key) \u001b[39mfrom\u001b[39;00m \u001b[39merr\u001b[39;00m\n\u001b[1;32m   3805\u001b[0m \u001b[39mexcept\u001b[39;00m \u001b[39mTypeError\u001b[39;00m:\n\u001b[1;32m   3806\u001b[0m     \u001b[39m# If we have a listlike key, _check_indexing_error will raise\u001b[39;00m\n\u001b[1;32m   3807\u001b[0m     \u001b[39m#  InvalidIndexError. Otherwise we fall through and re-raise\u001b[39;00m\n\u001b[1;32m   3808\u001b[0m     \u001b[39m#  the TypeError.\u001b[39;00m\n\u001b[1;32m   3809\u001b[0m     \u001b[39mself\u001b[39m\u001b[39m.\u001b[39m_check_indexing_error(key)\n",
      "\u001b[0;31mKeyError\u001b[0m: '7'"
     ]
    }
   ],
   "source": [
    "dist = np.zeros((tc.shape[0],tc.shape[0]))\n",
    "\n",
    "for i in range(tc.shape[0]):\n",
    "    for j in range(tc.shape[0]):\n",
    "        a = sum(((tc[str(i)]==1)&(tc[str(j)]==1)))\n",
    "        b = sum(((tc[str(i)]==1)&(tc[str(j)]==0)))\n",
    "        c = sum(((tc[str(i)]==0)&(tc[str(j)]==1)))\n",
    "        d = sum(((tc[str(i)]==0)&(tc[str(j)]==0)))\n",
    "        mesure = (b+c)/(a+b+c+d)\n",
    "        dist[i,j] = mesure\n",
    "print(\"\\n\\nTableau de distance en utilisant la mesure de ressemblance:\\n\")\n",
    "print(dist)"
   ]
  }
 ],
 "metadata": {
  "kernelspec": {
   "display_name": "Python 3",
   "language": "python",
   "name": "python3"
  },
  "language_info": {
   "codemirror_mode": {
    "name": "ipython",
    "version": 3
   },
   "file_extension": ".py",
   "mimetype": "text/x-python",
   "name": "python",
   "nbconvert_exporter": "python",
   "pygments_lexer": "ipython3",
   "version": "3.11.2"
  },
  "orig_nbformat": 4
 },
 "nbformat": 4,
 "nbformat_minor": 2
}
