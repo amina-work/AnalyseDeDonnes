{
 "cells": [
  {
   "cell_type": "code",
   "execution_count": 64,
   "metadata": {},
   "outputs": [
    {
     "name": "stdout",
     "output_type": "stream",
     "text": [
      "   0  1  2\n",
      "0  f  m  a\n",
      "1  f  m  a\n",
      "2  f  e  b\n",
      "3  f  e  c\n",
      "4  f  e  c\n",
      "5  h  e  c\n",
      "6  h  e  b\n",
      "7  h  m  b\n",
      "8  h  m  b\n",
      "9  h  m  a\n"
     ]
    }
   ],
   "source": [
    "#Tp N°1\n",
    "#exo2\n",
    "\n",
    "import numpy as np\n",
    "import pandas as pd\n",
    "exp= np.array([[\"f\", 'm', \"a\"], \n",
    "              [\"f\", 'm',\"a\"], \n",
    "              [\"f\", 'e',\"b\"], \n",
    "              [\"f\", 'e',\"c\"],\n",
    "              [\"f\", 'e', \"c\"], \n",
    "              [\"h\", 'e',\"c\"], \n",
    "              [\"h\", 'e',\"b\"],\n",
    "              [\"h\", 'm',\"b\"],\n",
    "              [\"h\", 'm',\"b\"], \n",
    "              [\"h\", 'm',\"a\"]])\n",
    "\n",
    "df = pd.DataFrame(data=exp)\n",
    "print(df)"
   ]
  },
  {
   "cell_type": "code",
   "execution_count": 94,
   "metadata": {},
   "outputs": [
    {
     "name": "stdout",
     "output_type": "stream",
     "text": [
      "   0_f  0_h  2  3  4  5  6\n",
      "0    1    0  1  1  1  0  0\n",
      "1    1    0  1  1  1  0  0\n",
      "2    1    0  1  1  0  1  0\n",
      "3    1    0  1  1  0  0  1\n",
      "4    1    0  1  1  0  0  1\n",
      "5    0    1  1  1  0  0  1\n",
      "6    0    1  1  1  0  1  0\n",
      "7    0    1  1  1  0  1  0\n",
      "8    0    1  1  1  0  1  0\n",
      "9    0    1  1  1  1  0  0\n"
     ]
    }
   ],
   "source": [
    "#Q1: Déterminer le tableau de codage disjoonctif complet\n",
    "#Déterminer le nombre de valeurs uniques dans chaque colonne\n",
    "#Et créer le montant approprié de {0,1}\n",
    "new = pd.get_dummies(df)\n",
    "new.rename(columns = {'0_[0. 1.]' : '0', '0_[1. 0.]' : '1', \"1_e\":\"2\", '1_m':'3', \"2_a\":\"4\", \"2_b\":\"5\", \"2_c\":\"6\"}, inplace = True)\n",
    "for i in range(len(new[\"2\"])):\n",
    "        if new[\"2\"][i] == 0 and new[\"3\"][i] == 1:\n",
    "            new[\"2\"][i] = 1\n",
    "            new[\"3\"][i] = 0\n",
    "            #new[\"3\"] = new[\"3\"].replace(1, 0)\n",
    "        elif new[\"2\"][i] == 1 and new[\"3\"][i] == 0:\n",
    "            new[\"2\"] = new[\"2\"].replace(0,1)\n",
    "            new[\"3\"] = new[\"3\"].replace(0,1)\n",
    "print(new)"
   ]
  }
 ],
 "metadata": {
  "kernelspec": {
   "display_name": "Python 3",
   "language": "python",
   "name": "python3"
  },
  "language_info": {
   "codemirror_mode": {
    "name": "ipython",
    "version": 3
   },
   "file_extension": ".py",
   "mimetype": "text/x-python",
   "name": "python",
   "nbconvert_exporter": "python",
   "pygments_lexer": "ipython3",
   "version": "3.11.2"
  },
  "orig_nbformat": 4
 },
 "nbformat": 4,
 "nbformat_minor": 2
}
