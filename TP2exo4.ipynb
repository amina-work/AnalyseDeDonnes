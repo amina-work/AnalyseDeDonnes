{
 "cells": [
  {
   "cell_type": "code",
   "execution_count": 27,
   "metadata": {},
   "outputs": [
    {
     "name": "stdout",
     "output_type": "stream",
     "text": [
      "\n",
      "Notre Tableau de données (Sachant que les données sont hétérogènes)\n",
      "\n",
      "   0  1\n",
      "0  2  3\n",
      "1  4  5\n",
      "2  6  1\n"
     ]
    }
   ],
   "source": [
    "#EXO4 de Fichier TP2\n",
    "#applique l'ACP sur la matrice\n",
    "\n",
    "import numpy as np\n",
    "import pandas as pd\n",
    "\n",
    "matrice = np.array([[2, 3],\n",
    "                    [4, 5],\n",
    "                    [6, 1]])\n",
    "df = pd.DataFrame(data=matrice)\n",
    "print(\"\\nNotre Tableau de données (Sachant que les données sont hétérogènes)\\n\")\n",
    "print(df)"
   ]
  },
  {
   "cell_type": "code",
   "execution_count": 28,
   "metadata": {},
   "outputs": [
    {
     "name": "stdout",
     "output_type": "stream",
     "text": [
      "\n",
      "Etape 1: Centrer le tableau: X = X - g avec g = moyenne\n",
      "\n",
      "     0    1\n",
      "0 -2.0  0.0\n",
      "1  0.0  2.0\n",
      "2  2.0 -2.0\n"
     ]
    }
   ],
   "source": [
    "print(\"\\nEtape 1: Centrer le tableau: X = X - g avec g = moyenne\\n\")\n",
    "df1 = pd.DataFrame()\n",
    "for i in df:\n",
    "    df1[i] = df[i] - df[i].mean()\n",
    "print(df1)"
   ]
  },
  {
   "cell_type": "code",
   "execution_count": 29,
   "metadata": {},
   "outputs": [
    {
     "name": "stdout",
     "output_type": "stream",
     "text": [
      "\n",
      "Etape 2: Calculer la matrice variance covariance: V = 1 / N * Xt * X\n",
      "\n",
      "          0         1\n",
      "0  2.666667 -1.333333\n",
      "1 -1.333333  2.666667\n"
     ]
    }
   ],
   "source": [
    "print(\"\\nEtape 2: Calculer la matrice variance covariance: V = 1 / N * Xt * X\\n\")\n",
    "df_t = df1.transpose()\n",
    "V = (1 / df.shape[0]) * (df1.cov()*2)\n",
    "print(V)"
   ]
  },
  {
   "cell_type": "code",
   "execution_count": 30,
   "metadata": {},
   "outputs": [
    {
     "name": "stdout",
     "output_type": "stream",
     "text": [
      "\n",
      "Etape 3: Déterminer la métrique M:\n",
      "\n",
      "Pour les données homogéne:\n",
      "     0    1\n",
      "0  1.0  0.0\n",
      "1  0.0  1.0\n",
      "\n",
      "Pour les données hétérogènes:\n",
      "       0      1\n",
      "0  0.375  0.000\n",
      "1  0.000  0.375\n"
     ]
    }
   ],
   "source": [
    "print(\"\\nEtape 3: Déterminer la métrique M:\\n\")\n",
    "print(\"Pour les données homogéne:\")\n",
    "m_ho = np.zeros((df.shape[1], df.shape[1]), float)\n",
    "np.fill_diagonal(m_ho, 1)\n",
    "I = pd.DataFrame(data=m_ho)\n",
    "print(I)\n",
    "print(\"\\nPour les données hétérogènes:\")\n",
    "m_he = np.zeros((df.shape[1], df.shape[1]), float)\n",
    "np.fill_diagonal(m_he, 1 / V[0][0])\n",
    "M = pd.DataFrame(data=m_he)\n",
    "print(M)"
   ]
  },
  {
   "cell_type": "code",
   "execution_count": 32,
   "metadata": {},
   "outputs": [
    {
     "name": "stdout",
     "output_type": "stream",
     "text": [
      "\n",
      "Etape 4: Recherche des axes principaux Uk de la matrice (VM)\n",
      "\n",
      "=> Calculer les valeurs propres Dét(VM - ΛI) = 0\n",
      "     0    1\n",
      "0  1.0  0.0\n",
      "1  0.0  1.0\n",
      "     0    1\n",
      "0    x  0.0\n",
      "1  0.0    x\n"
     ]
    }
   ],
   "source": [
    "print(\"\\nEtape 4: Recherche des axes principaux Uk de la matrice (VM)\\n\")\n",
    "print(\"=> Calculer les valeurs propres Dét(VM - ΛI) = 0\")\n",
    "xi = I.replace(1, \"x\")\n",
    "vm = abs(V * M)\n",
    "print(vm)"
   ]
  }
 ],
 "metadata": {
  "kernelspec": {
   "display_name": "Python 3",
   "language": "python",
   "name": "python3"
  },
  "language_info": {
   "codemirror_mode": {
    "name": "ipython",
    "version": 3
   },
   "file_extension": ".py",
   "mimetype": "text/x-python",
   "name": "python",
   "nbconvert_exporter": "python",
   "pygments_lexer": "ipython3",
   "version": "3.11.2"
  },
  "orig_nbformat": 4
 },
 "nbformat": 4,
 "nbformat_minor": 2
}
