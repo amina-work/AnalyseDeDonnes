{
 "cells": [
  {
   "cell_type": "code",
   "execution_count": 344,
   "metadata": {},
   "outputs": [
    {
     "name": "stdout",
     "output_type": "stream",
     "text": [
      "\n",
      "Notre Tableau de données (Sachant que les données sont hétérogènes)\n",
      "\n"
     ]
    },
    {
     "data": {
      "text/html": [
       "<div>\n",
       "<style scoped>\n",
       "    .dataframe tbody tr th:only-of-type {\n",
       "        vertical-align: middle;\n",
       "    }\n",
       "\n",
       "    .dataframe tbody tr th {\n",
       "        vertical-align: top;\n",
       "    }\n",
       "\n",
       "    .dataframe thead th {\n",
       "        text-align: right;\n",
       "    }\n",
       "</style>\n",
       "<table border=\"1\" class=\"dataframe\">\n",
       "  <thead>\n",
       "    <tr style=\"text-align: right;\">\n",
       "      <th></th>\n",
       "      <th>0</th>\n",
       "      <th>1</th>\n",
       "    </tr>\n",
       "  </thead>\n",
       "  <tbody>\n",
       "    <tr>\n",
       "      <th>0</th>\n",
       "      <td>2</td>\n",
       "      <td>3</td>\n",
       "    </tr>\n",
       "    <tr>\n",
       "      <th>1</th>\n",
       "      <td>4</td>\n",
       "      <td>5</td>\n",
       "    </tr>\n",
       "    <tr>\n",
       "      <th>2</th>\n",
       "      <td>6</td>\n",
       "      <td>1</td>\n",
       "    </tr>\n",
       "  </tbody>\n",
       "</table>\n",
       "</div>"
      ],
      "text/plain": [
       "   0  1\n",
       "0  2  3\n",
       "1  4  5\n",
       "2  6  1"
      ]
     },
     "metadata": {},
     "output_type": "display_data"
    }
   ],
   "source": [
    "#EXO4 de Fichier TP2\n",
    "#applique l'ACP sur la matrice\n",
    "\n",
    "import numpy as np\n",
    "import pandas as pd\n",
    "\n",
    "matrice = np.array([[2, 3],\n",
    "                    [4, 5],\n",
    "                    [6, 1]])\n",
    "a = np.array([[8, 1, 0],\n",
    "                    [4, 6, 5],\n",
    "                    [6, 8, 7],\n",
    "                    [10, 4, 7],\n",
    "                    [8, 2, 5],\n",
    "                    [0, 3, 6]])\n",
    "df = pd.DataFrame(data=matrice)\n",
    "print(\"\\nNotre Tableau de données (Sachant que les données sont hétérogènes)\\n\")\n",
    "display(df)"
   ]
  },
  {
   "cell_type": "code",
   "execution_count": 345,
   "metadata": {},
   "outputs": [
    {
     "name": "stdout",
     "output_type": "stream",
     "text": [
      "\n",
      "Etape 1: Centrer le tableau: X = X - g avec g = moyenne\n",
      "\n"
     ]
    },
    {
     "data": {
      "text/html": [
       "<div>\n",
       "<style scoped>\n",
       "    .dataframe tbody tr th:only-of-type {\n",
       "        vertical-align: middle;\n",
       "    }\n",
       "\n",
       "    .dataframe tbody tr th {\n",
       "        vertical-align: top;\n",
       "    }\n",
       "\n",
       "    .dataframe thead th {\n",
       "        text-align: right;\n",
       "    }\n",
       "</style>\n",
       "<table border=\"1\" class=\"dataframe\">\n",
       "  <thead>\n",
       "    <tr style=\"text-align: right;\">\n",
       "      <th></th>\n",
       "      <th>0</th>\n",
       "      <th>1</th>\n",
       "    </tr>\n",
       "  </thead>\n",
       "  <tbody>\n",
       "    <tr>\n",
       "      <th>0</th>\n",
       "      <td>-2.0</td>\n",
       "      <td>0.0</td>\n",
       "    </tr>\n",
       "    <tr>\n",
       "      <th>1</th>\n",
       "      <td>0.0</td>\n",
       "      <td>2.0</td>\n",
       "    </tr>\n",
       "    <tr>\n",
       "      <th>2</th>\n",
       "      <td>2.0</td>\n",
       "      <td>-2.0</td>\n",
       "    </tr>\n",
       "  </tbody>\n",
       "</table>\n",
       "</div>"
      ],
      "text/plain": [
       "     0    1\n",
       "0 -2.0  0.0\n",
       "1  0.0  2.0\n",
       "2  2.0 -2.0"
      ]
     },
     "metadata": {},
     "output_type": "display_data"
    }
   ],
   "source": [
    "print(\"\\nEtape 1: Centrer le tableau: X = X - g avec g = moyenne\\n\")\n",
    "df1 = pd.DataFrame()\n",
    "for i in df:\n",
    "    df1[i] = df[i] - df[i].mean()\n",
    "display(df1)"
   ]
  },
  {
   "cell_type": "code",
   "execution_count": 346,
   "metadata": {},
   "outputs": [
    {
     "name": "stdout",
     "output_type": "stream",
     "text": [
      "\n",
      "Etape 2: Calculer la matrice variance covariance: V = 1 / N * Xt * X\n",
      "\n"
     ]
    },
    {
     "data": {
      "text/html": [
       "<div>\n",
       "<style scoped>\n",
       "    .dataframe tbody tr th:only-of-type {\n",
       "        vertical-align: middle;\n",
       "    }\n",
       "\n",
       "    .dataframe tbody tr th {\n",
       "        vertical-align: top;\n",
       "    }\n",
       "\n",
       "    .dataframe thead th {\n",
       "        text-align: right;\n",
       "    }\n",
       "</style>\n",
       "<table border=\"1\" class=\"dataframe\">\n",
       "  <thead>\n",
       "    <tr style=\"text-align: right;\">\n",
       "      <th></th>\n",
       "      <th>0</th>\n",
       "      <th>1</th>\n",
       "    </tr>\n",
       "  </thead>\n",
       "  <tbody>\n",
       "    <tr>\n",
       "      <th>0</th>\n",
       "      <td>1.333333</td>\n",
       "      <td>-0.666667</td>\n",
       "    </tr>\n",
       "    <tr>\n",
       "      <th>1</th>\n",
       "      <td>-0.666667</td>\n",
       "      <td>1.333333</td>\n",
       "    </tr>\n",
       "  </tbody>\n",
       "</table>\n",
       "</div>"
      ],
      "text/plain": [
       "          0         1\n",
       "0  1.333333 -0.666667\n",
       "1 -0.666667  1.333333"
      ]
     },
     "metadata": {},
     "output_type": "display_data"
    }
   ],
   "source": [
    "print(\"\\nEtape 2: Calculer la matrice variance covariance: V = 1 / N * Xt * X\\n\")\n",
    "df_t = df1.transpose()\n",
    "vaco = (df1.cov())\n",
    "V = (1 / df.shape[0]) * vaco\n",
    "display(V)"
   ]
  },
  {
   "cell_type": "code",
   "execution_count": 347,
   "metadata": {},
   "outputs": [
    {
     "name": "stdout",
     "output_type": "stream",
     "text": [
      "\n",
      "Etape 3: Déterminer la métrique M:\n",
      "\n",
      "Pour les données homogéne:\n"
     ]
    },
    {
     "data": {
      "text/html": [
       "<div>\n",
       "<style scoped>\n",
       "    .dataframe tbody tr th:only-of-type {\n",
       "        vertical-align: middle;\n",
       "    }\n",
       "\n",
       "    .dataframe tbody tr th {\n",
       "        vertical-align: top;\n",
       "    }\n",
       "\n",
       "    .dataframe thead th {\n",
       "        text-align: right;\n",
       "    }\n",
       "</style>\n",
       "<table border=\"1\" class=\"dataframe\">\n",
       "  <thead>\n",
       "    <tr style=\"text-align: right;\">\n",
       "      <th></th>\n",
       "      <th>0</th>\n",
       "      <th>1</th>\n",
       "    </tr>\n",
       "  </thead>\n",
       "  <tbody>\n",
       "    <tr>\n",
       "      <th>0</th>\n",
       "      <td>1.0</td>\n",
       "      <td>0.0</td>\n",
       "    </tr>\n",
       "    <tr>\n",
       "      <th>1</th>\n",
       "      <td>0.0</td>\n",
       "      <td>1.0</td>\n",
       "    </tr>\n",
       "  </tbody>\n",
       "</table>\n",
       "</div>"
      ],
      "text/plain": [
       "     0    1\n",
       "0  1.0  0.0\n",
       "1  0.0  1.0"
      ]
     },
     "metadata": {},
     "output_type": "display_data"
    },
    {
     "name": "stdout",
     "output_type": "stream",
     "text": [
      "\n",
      "Pour les données hétérogènes:\n"
     ]
    },
    {
     "data": {
      "text/html": [
       "<div>\n",
       "<style scoped>\n",
       "    .dataframe tbody tr th:only-of-type {\n",
       "        vertical-align: middle;\n",
       "    }\n",
       "\n",
       "    .dataframe tbody tr th {\n",
       "        vertical-align: top;\n",
       "    }\n",
       "\n",
       "    .dataframe thead th {\n",
       "        text-align: right;\n",
       "    }\n",
       "</style>\n",
       "<table border=\"1\" class=\"dataframe\">\n",
       "  <thead>\n",
       "    <tr style=\"text-align: right;\">\n",
       "      <th></th>\n",
       "      <th>0</th>\n",
       "      <th>1</th>\n",
       "    </tr>\n",
       "  </thead>\n",
       "  <tbody>\n",
       "    <tr>\n",
       "      <th>0</th>\n",
       "      <td>0.75</td>\n",
       "      <td>0.00</td>\n",
       "    </tr>\n",
       "    <tr>\n",
       "      <th>1</th>\n",
       "      <td>0.00</td>\n",
       "      <td>0.75</td>\n",
       "    </tr>\n",
       "  </tbody>\n",
       "</table>\n",
       "</div>"
      ],
      "text/plain": [
       "      0     1\n",
       "0  0.75  0.00\n",
       "1  0.00  0.75"
      ]
     },
     "metadata": {},
     "output_type": "display_data"
    }
   ],
   "source": [
    "print(\"\\nEtape 3: Déterminer la métrique M:\\n\")\n",
    "print(\"Pour les données homogéne:\")\n",
    "m_ho = np.zeros((df.shape[1], df.shape[1]), float)\n",
    "np.fill_diagonal(m_ho, 1)\n",
    "I = pd.DataFrame(data=m_ho)\n",
    "display(I)\n",
    "print(\"\\nPour les données hétérogènes:\")\n",
    "m_he = np.zeros((df.shape[1], df.shape[1]), float)\n",
    "np.fill_diagonal(m_he, 1 / V[0][0])\n",
    "M = pd.DataFrame(data=m_he)\n",
    "display(M)"
   ]
  },
  {
   "cell_type": "code",
   "execution_count": 348,
   "metadata": {},
   "outputs": [
    {
     "name": "stdout",
     "output_type": "stream",
     "text": [
      "\n",
      "Etape 4: Recherche des axes principaux Uk de la matrice (VM)\n",
      "\n",
      "=> Calculer les valeurs propres Dét(VM - ΛI) = 0\n",
      "[[2 3 0]\n",
      " [4 5 0]\n",
      " [6 1 0]]\n",
      "[ 0.          7.27491722 -0.27491722]\n",
      "\n",
      "=> Trier Les valeurs propres par ordre décroissant: lambda1 > lamba2..\n"
     ]
    }
   ],
   "source": [
    "print(\"\\nEtape 4: Recherche des axes principaux Uk de la matrice (VM)\\n\")\n",
    "print(\"=> Calculer les valeurs propres Dét(VM - ΛI) = 0\")\n",
    "#x1 = - vaco[0][1] / df.shape[0] #pour 4-3x0\n",
    "#x2 = (vaco[0][0] - vaco[0][1]) / df.shape[0] #pour 8 - 3x + 4\n",
    "#c = 0\n",
    "#print(vaco, \"- x\\n\", I)\n",
    "matrice = np.array([[2, 3, 0],\n",
    "                    [4, 5, 0],\n",
    "                    [6, 1, 0]])\n",
    "print(matrice)\n",
    "print(np.linalg.eigvals(matrice))\n",
    "print(\"\\n=> Trier Les valeurs propres par ordre décroissant: lambda1 > lamba2..\")"
   ]
  },
  {
   "cell_type": "code",
   "execution_count": 349,
   "metadata": {},
   "outputs": [
    {
     "name": "stdout",
     "output_type": "stream",
     "text": [
      "\n",
      "Etape 5: Calculer la qualité de représentation: Q\n",
      "\n",
      "LA Qualité = 1.0\n",
      "Les axes principaux sont: [2.0, 0.6666666666666666]\n"
     ]
    }
   ],
   "source": [
    "print(\"\\nEtape 5: Calculer la qualité de représentation: Q\\n\")\n",
    "q = 0.0\n",
    "l = [x1, x2]\n",
    "i = len(l) - 1\n",
    "while q < 0.8:\n",
    "    if i == 0 :\n",
    "        q = (sum(l)) / sum(l)\n",
    "        print(\"LA Qualité =\", q)\n",
    "        print(\"Les axes principaux sont:\", l)\n",
    "    else: \n",
    "        q = (sum(l) - l[i])/ sum(l)\n",
    "    i -= 1"
   ]
  },
  {
   "cell_type": "code",
   "execution_count": 350,
   "metadata": {},
   "outputs": [
    {
     "name": "stdout",
     "output_type": "stream",
     "text": [
      "\n",
      "Etape 6: Calculer les vacteurs propres Uk: \n",
      "\n",
      "          0         1\n",
      "0  1.333333 -0.666667\n",
      "1 -0.666667  1.333333\n"
     ]
    }
   ],
   "source": [
    "print(\"\\nEtape 6: Calculer les vacteurs propres Uk: \\n\")\n",
    "print(V)"
   ]
  }
 ],
 "metadata": {
  "kernelspec": {
   "display_name": "Python 3",
   "language": "python",
   "name": "python3"
  },
  "language_info": {
   "codemirror_mode": {
    "name": "ipython",
    "version": 3
   },
   "file_extension": ".py",
   "mimetype": "text/x-python",
   "name": "python",
   "nbconvert_exporter": "python",
   "pygments_lexer": "ipython3",
   "version": "3.11.2"
  },
  "orig_nbformat": 4
 },
 "nbformat": 4,
 "nbformat_minor": 2
}
